{
 "cells": [
  {
   "cell_type": "code",
   "execution_count": null,
   "metadata": {},
   "outputs": [],
   "source": [
    "603的开32次方根作业\n",
    "物理科学与技术学院 董堃昊 19720182203899"
   ]
  },
  {
   "cell_type": "code",
   "execution_count": 1,
   "metadata": {},
   "outputs": [
    {
     "name": "stdout",
     "output_type": "stream",
     "text": [
      "1.2214720448489795\n"
     ]
    }
   ],
   "source": [
    "a=1\n",
    "while abs(a**32-603)>0.1:\n",
    "    a=((603/a**31)+a)/2\n",
    "print(a)"
   ]
  },
  {
   "cell_type": "code",
   "execution_count": 3,
   "metadata": {},
   "outputs": [
    {
     "name": "stdout",
     "output_type": "stream",
     "text": [
      "1.2214759375201958\n"
     ]
    }
   ],
   "source": [
    "a=1.0\n",
    "b=603\n",
    "while abs(a**32-b)>0.0000001:\n",
    "    a=a-(a**32-b)/(32*a**31)\n",
    "print(a)"
   ]
  },
  {
   "cell_type": "code",
   "execution_count": 6,
   "metadata": {},
   "outputs": [
    {
     "name": "stdout",
     "output_type": "stream",
     "text": [
      "1.221475810990905\n"
     ]
    }
   ],
   "source": [
    "a=1.0\n",
    "b=603.0\n",
    "while abs(a**32-b)>0.002:\n",
    "    a=a-0.00000000001*((a**32-b)*(32*a**31))\n",
    "print(a)\n",
    "\n"
   ]
  },
  {
   "cell_type": "code",
   "execution_count": null,
   "metadata": {},
   "outputs": [],
   "source": []
  },
  {
   "cell_type": "code",
   "execution_count": null,
   "metadata": {},
   "outputs": [],
   "source": []
  }
 ],
 "metadata": {
  "kernelspec": {
   "display_name": "Python 3",
   "language": "python",
   "name": "python3"
  },
  "language_info": {
   "codemirror_mode": {
    "name": "ipython",
    "version": 3
   },
   "file_extension": ".py",
   "mimetype": "text/x-python",
   "name": "python",
   "nbconvert_exporter": "python",
   "pygments_lexer": "ipython3",
   "version": "3.7.3"
  }
 },
 "nbformat": 4,
 "nbformat_minor": 2
}
