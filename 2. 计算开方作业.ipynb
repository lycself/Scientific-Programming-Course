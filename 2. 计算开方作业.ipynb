{
 "cells": [
  {
   "cell_type": "markdown",
   "metadata": {
    "hide_input": true
   },
   "source": [
    "# <center>二、计算开方</center>\n",
    "<center>2019.10.10"
   ]
  },
  {
   "cell_type": "markdown",
   "metadata": {},
   "source": [
    "## 0. 什么是算法？\n",
    "\n",
    "把一项任务分解为简单重复的步骤。\n",
    "\n",
    "\n"
   ]
  },
  {
   "cell_type": "markdown",
   "metadata": {},
   "source": [
    "## 1. 计算开方\n",
    "\n",
    "### 问题描述：\n",
    "\n",
    "求任意正数 $y$ 的开方，即寻找一个$x$，使得 $x\\times x =y$。"
   ]
  },
  {
   "cell_type": "markdown",
   "metadata": {},
   "source": [
    "### 利用自带函数\n",
    "利用 Python 自带的函数 `sqrt` 来计算开方。"
   ]
  },
  {
   "cell_type": "code",
   "execution_count": 24,
   "metadata": {
    "ExecuteTime": {
     "end_time": "2019-10-09T12:27:56.835460Z",
     "start_time": "2019-10-09T12:27:56.827463Z"
    }
   },
   "outputs": [
    {
     "data": {
      "text/plain": [
       "3.0"
      ]
     },
     "execution_count": 24,
     "metadata": {},
     "output_type": "execute_result"
    }
   ],
   "source": [
    "# 调用内置函数进行计算\n",
    "y = 9.\n",
    "import math\n",
    "math.sqrt(y)"
   ]
  },
  {
   "cell_type": "markdown",
   "metadata": {},
   "source": [
    "### 算法一\n",
    "\n",
    "1. 随便猜一个 $x$ 作为初始值。\n",
    "2. 若果没猜中那么，尝试新值 $$ x = \\frac{\\frac{y}{x}+x}{2} $$\n",
    "\n",
    "3. 不断的重复步骤 2，直到 $x*x = y $"
   ]
  },
  {
   "cell_type": "code",
   "execution_count": null,
   "metadata": {},
   "outputs": [],
   "source": []
  },
  {
   "cell_type": "code",
   "execution_count": null,
   "metadata": {},
   "outputs": [],
   "source": []
  },
  {
   "cell_type": "code",
   "execution_count": null,
   "metadata": {},
   "outputs": [],
   "source": []
  },
  {
   "cell_type": "markdown",
   "metadata": {},
   "source": [
    "**将上述算法定义成函数，得到一个自定义开方函数 `mysqrt`.**"
   ]
  },
  {
   "cell_type": "code",
   "execution_count": null,
   "metadata": {},
   "outputs": [],
   "source": []
  },
  {
   "cell_type": "code",
   "execution_count": null,
   "metadata": {},
   "outputs": [],
   "source": []
  },
  {
   "cell_type": "code",
   "execution_count": null,
   "metadata": {},
   "outputs": [],
   "source": []
  },
  {
   "cell_type": "markdown",
   "metadata": {},
   "source": [
    "### 将算法一的推广成求任意次方根的算法\n",
    "\n",
    "算法一只是在求**平方根**时有效，如果要计算开任意次方，需要推广上述算法。即将搜索区间 `[low,high]` 不断通过二分法逼近需要的结果。"
   ]
  },
  {
   "cell_type": "code",
   "execution_count": null,
   "metadata": {},
   "outputs": [],
   "source": []
  },
  {
   "cell_type": "code",
   "execution_count": null,
   "metadata": {},
   "outputs": [],
   "source": []
  },
  {
   "cell_type": "code",
   "execution_count": null,
   "metadata": {},
   "outputs": [],
   "source": []
  },
  {
   "cell_type": "markdown",
   "metadata": {},
   "source": [
    "### 算法二 转化成优化问题\n",
    "\n",
    "将求$n$次方根的问题转化为优化问题(极值问题)。构造 *Cost Function* $L(x)$，寻找使 $L(x)$ 最小的 $x$，使之满足 $x^n = y$。\n",
    "\n",
    "Cost Function 可以这样定义：$$L(x)=\\frac{1}{2}(x^{n}-y)^2$$\n",
    "\n",
    "我们可以用梯度下降法寻找使 $L(x)$ 最小的$x$：$$x_{n+1} = x_n - \\alpha L'(x_n) $$\n",
    "\n",
    "\n",
    "\n",
    "\n",
    "#### 注意：学习率一定要取小，讨论一下学习率 $\\alpha$ 如何影响结果\n"
   ]
  },
  {
   "cell_type": "code",
   "execution_count": null,
   "metadata": {},
   "outputs": [],
   "source": []
  },
  {
   "cell_type": "code",
   "execution_count": null,
   "metadata": {},
   "outputs": [],
   "source": []
  },
  {
   "cell_type": "markdown",
   "metadata": {},
   "source": [
    "### 算法三：牛顿迭代法求根\n",
    "\n",
    "将开放为题转化为求函数 $$f(x) = x^n - y$$ 的根的问题。\n",
    "\n",
    "可用牛顿迭代法：$$x_{n+1}=x_{n}-\\frac{f(x_n)}{f'(x_n)}$$"
   ]
  },
  {
   "cell_type": "code",
   "execution_count": null,
   "metadata": {},
   "outputs": [],
   "source": []
  },
  {
   "cell_type": "code",
   "execution_count": null,
   "metadata": {},
   "outputs": [],
   "source": []
  },
  {
   "cell_type": "code",
   "execution_count": null,
   "metadata": {},
   "outputs": [],
   "source": []
  },
  {
   "cell_type": "markdown",
   "metadata": {
    "collapsed": true
   },
   "source": [
    "## 第一次作业\n",
    "计算 603 的32次方根，至少用三种算法，也可构造自己的算法。注意提交作业的文件名格式：1_求根_姓名.ipynb。包括必要的文字说明，代码，结果输出。完成后发到 yzhang75@xmu.edu.cn"
   ]
  },
  {
   "cell_type": "code",
   "execution_count": null,
   "metadata": {
    "collapsed": true
   },
   "outputs": [],
   "source": []
  },
  {
   "cell_type": "code",
   "execution_count": null,
   "metadata": {
    "collapsed": true
   },
   "outputs": [],
   "source": []
  }
 ],
 "metadata": {
  "hide_input": false,
  "kernelspec": {
   "display_name": "Python 3",
   "language": "python",
   "name": "python3"
  },
  "language_info": {
   "codemirror_mode": {
    "name": "ipython",
    "version": 3
   },
   "file_extension": ".py",
   "mimetype": "text/x-python",
   "name": "python",
   "nbconvert_exporter": "python",
   "pygments_lexer": "ipython3",
   "version": "3.7.4"
  },
  "toc": {
   "base_numbering": 1,
   "nav_menu": {},
   "number_sections": false,
   "sideBar": true,
   "skip_h1_title": true,
   "title_cell": "Table of Contents",
   "title_sidebar": "Contents",
   "toc_cell": false,
   "toc_position": {},
   "toc_section_display": true,
   "toc_window_display": true
  },
  "varInspector": {
   "cols": {
    "lenName": 16,
    "lenType": 16,
    "lenVar": 40
   },
   "kernels_config": {
    "python": {
     "delete_cmd_postfix": "",
     "delete_cmd_prefix": "del ",
     "library": "var_list.py",
     "varRefreshCmd": "print(var_dic_list())"
    },
    "r": {
     "delete_cmd_postfix": ") ",
     "delete_cmd_prefix": "rm(",
     "library": "var_list.r",
     "varRefreshCmd": "cat(var_dic_list()) "
    }
   },
   "types_to_exclude": [
    "module",
    "function",
    "builtin_function_or_method",
    "instance",
    "_Feature"
   ],
   "window_display": false
  }
 },
 "nbformat": 4,
 "nbformat_minor": 2
}
