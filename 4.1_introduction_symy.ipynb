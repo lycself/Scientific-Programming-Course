{
 "cells": [
  {
   "cell_type": "markdown",
   "metadata": {},
   "source": [
    "## 利用 `sympy` 库进行解析推导\n",
    "\n",
    "\n",
    "- 请参考[官方教程](https://docs.sympy.org/latest/tutorial/)。\n",
    "\n",
    "\n",
    "\n",
    "### 开始使用：\n",
    "- sympy 是一个 python 库：`from sympy import *`\n",
    "- 显示标准公式：`init_printing(use_unicode=True)`\n",
    "- 定义符号：`x,r = symbols('x r')`"
   ]
  },
  {
   "cell_type": "code",
   "execution_count": 5,
   "metadata": {
    "ExecuteTime": {
     "end_time": "2019-10-23T13:39:55.572409Z",
     "start_time": "2019-10-23T13:39:55.569411Z"
    }
   },
   "outputs": [],
   "source": [
    "from sympy import *\n",
    "init_printing(use_unicode=True) # 显示漂亮的数学公式"
   ]
  },
  {
   "cell_type": "code",
   "execution_count": 6,
   "metadata": {
    "ExecuteTime": {
     "end_time": "2019-10-23T13:39:56.331982Z",
     "start_time": "2019-10-23T13:39:56.328983Z"
    }
   },
   "outputs": [],
   "source": [
    "x,r = symbols('x r') # 定义符号"
   ]
  },
  {
   "cell_type": "markdown",
   "metadata": {},
   "source": [
    "### 定义函数"
   ]
  },
  {
   "cell_type": "code",
   "execution_count": 48,
   "metadata": {
    "ExecuteTime": {
     "end_time": "2019-10-23T14:11:46.331681Z",
     "start_time": "2019-10-23T14:11:46.325683Z"
    }
   },
   "outputs": [],
   "source": [
    "f = r*x*(1-x) # Logistic map\n",
    "ff = r*f*(1-f) # f(f(x))\n",
    "fff = r*ff*(1-ff) # f(f(f(x)))"
   ]
  },
  {
   "cell_type": "markdown",
   "metadata": {},
   "source": [
    "### 求周期一（不动点）轨道\n",
    "\n",
    "周期一轨道的条件是 $x^* = rx^*(1-x^*)$，求周期一轨道 $x^*$ 实际上就是求方程 $rx(1-x)=x $ 的根。"
   ]
  },
  {
   "cell_type": "code",
   "execution_count": 46,
   "metadata": {
    "ExecuteTime": {
     "end_time": "2019-10-23T14:11:42.172311Z",
     "start_time": "2019-10-23T14:11:42.155316Z"
    }
   },
   "outputs": [],
   "source": [
    "L = solve(f-x,x)"
   ]
  },
  {
   "cell_type": "code",
   "execution_count": 47,
   "metadata": {
    "ExecuteTime": {
     "end_time": "2019-10-23T14:11:42.823785Z",
     "start_time": "2019-10-23T14:11:42.725828Z"
    }
   },
   "outputs": [
    {
     "data": {
      "image/png": "[encoded data removed]",
      "text/latex": [
       "$\\displaystyle \\left[ 0, \\  \\frac{r - 1}{r}\\right]$"
      ],
      "text/plain": [
       "⎡   r - 1⎤\n",
       "⎢0, ─────⎥\n",
       "⎣     r  ⎦"
      ]
     },
     "execution_count": 47,
     "metadata": {},
     "output_type": "execute_result"
    }
   ],
   "source": [
    "L"
   ]
  },
  {
   "cell_type": "code",
   "execution_count": 20,
   "metadata": {
    "ExecuteTime": {
     "end_time": "2019-10-23T13:41:21.428374Z",
     "start_time": "2019-10-23T13:41:21.424360Z"
    }
   },
   "outputs": [],
   "source": [
    "r_value = 3.3"
   ]
  },
  {
   "cell_type": "code",
   "execution_count": 21,
   "metadata": {
    "ExecuteTime": {
     "end_time": "2019-10-23T13:41:30.030414Z",
     "start_time": "2019-10-23T13:41:30.024416Z"
    }
   },
   "outputs": [],
   "source": [
    "L_value = [L[0].subs(r,r_value),L[1].subs(r,r_value)]"
   ]
  },
  {
   "cell_type": "code",
   "execution_count": 22,
   "metadata": {
    "ExecuteTime": {
     "end_time": "2019-10-23T13:41:32.069339Z",
     "start_time": "2019-10-23T13:41:31.964381Z"
    }
   },
   "outputs": [
    {
     "data": {
      "image/png": "[encoded data removed]",
      "text/latex": [
       "$\\displaystyle \\left[ 0, \\  0.696969696969697\\right]$"
      ],
      "text/plain": [
       "[0, 0.696969696969697]"
      ]
     },
     "execution_count": 22,
     "metadata": {},
     "output_type": "execute_result"
    }
   ],
   "source": [
    "L_value"
   ]
  },
  {
   "cell_type": "markdown",
   "metadata": {},
   "source": [
    "### 求周期二的轨道\n",
    "\n",
    "周期二轨道满足如下条件：\n",
    "\n",
    "$$ \\left\\{\n",
    "\\begin{array}{ll}\n",
    "x_{2}^{*}  =rx_{1}^{*}(1-x_{1}^{*}) \\\\\n",
    "x_{1}^{*}  =rx_{2}^{*}(1-x_{2}^{*})\n",
    "\\end{array}\n",
    "\\right.\n",
    "$$\n",
    "\n",
    "上面的方程组可以形式地写成：$x_{1}^{*}=f(f(x_{1}^{*}))$, 或者  $x_{2}^{*}=f(f(x_{2}^{*}))$，两者完全等价。换句话说，周期二轨道是函数 $f^2=f(f(x))$ 的不动点，即满足方程 $x=f^{2}(x)$ 的解。\n",
    "\n",
    "以此类推，周期 $n$ 轨道就是方程 $x = f^{n}(x)$ 的解，其中 $f^n(x):=\\overbrace{f(f(...f}^{n}(x)))$"
   ]
  },
  {
   "cell_type": "code",
   "execution_count": 31,
   "metadata": {
    "ExecuteTime": {
     "end_time": "2019-10-23T13:55:14.223514Z",
     "start_time": "2019-10-23T13:55:14.083923Z"
    }
   },
   "outputs": [],
   "source": [
    "LL = solve(ff-x,x)"
   ]
  },
  {
   "cell_type": "code",
   "execution_count": 32,
   "metadata": {
    "ExecuteTime": {
     "end_time": "2019-10-23T13:55:18.023611Z",
     "start_time": "2019-10-23T13:55:17.885955Z"
    }
   },
   "outputs": [
    {
     "data": {
      "image/png": "[encoded data removed]",
      "text/latex": [
       "$\\displaystyle \\left[ 0, \\  \\frac{r - 1}{r}, \\  \\frac{r - \\sqrt{r^{2} - 2 r - 3} + 1}{2 r}, \\  \\frac{r + \\sqrt{r^{2} - 2 r - 3} + 1}{2 r}\\right]$"
      ],
      "text/plain": [
       "⎡                 ______________             ______________    ⎤\n",
       "⎢                ╱  2                       ╱  2               ⎥\n",
       "⎢   r - 1  r - ╲╱  r  - 2⋅r - 3  + 1  r + ╲╱  r  - 2⋅r - 3  + 1⎥\n",
       "⎢0, ─────, ─────────────────────────, ─────────────────────────⎥\n",
       "⎣     r               2⋅r                        2⋅r           ⎦"
      ]
     },
     "execution_count": 32,
     "metadata": {},
     "output_type": "execute_result"
    }
   ],
   "source": [
    "LL"
   ]
  },
  {
   "cell_type": "code",
   "execution_count": 37,
   "metadata": {
    "ExecuteTime": {
     "end_time": "2019-10-23T14:08:41.125662Z",
     "start_time": "2019-10-23T14:08:41.017722Z"
    }
   },
   "outputs": [
    {
     "data": {
      "image/png": "[encoded data removed]",
      "text/latex": [
       "$\\displaystyle \\left(r - 3\\right) \\left(r + 1\\right)$"
      ],
      "text/plain": [
       "(r - 3)⋅(r + 1)"
      ]
     },
     "execution_count": 37,
     "metadata": {},
     "output_type": "execute_result"
    }
   ],
   "source": [
    "factor(r*r-2*r-3)"
   ]
  },
  {
   "cell_type": "markdown",
   "metadata": {},
   "source": [
    "### 求周期三轨道"
   ]
  },
  {
   "cell_type": "code",
   "execution_count": 45,
   "metadata": {
    "ExecuteTime": {
     "end_time": "2019-10-23T14:11:34.340046Z",
     "start_time": "2019-10-23T14:11:34.256093Z"
    }
   },
   "outputs": [],
   "source": [
    "LLL = solve(fff-x,x)"
   ]
  },
  {
   "cell_type": "code",
   "execution_count": 60,
   "metadata": {
    "ExecuteTime": {
     "end_time": "2019-10-23T14:24:15.334292Z",
     "start_time": "2019-10-23T14:24:15.107419Z"
    }
   },
   "outputs": [
    {
     "data": {
      "image/png": "[encoded data removed]",
      "text/latex": [
       "$\\displaystyle - r^{7} x^{8} + 4 r^{7} x^{7} - 6 r^{7} x^{6} + 4 r^{7} x^{5} - r^{7} x^{4} - 2 r^{6} x^{6} + 6 r^{6} x^{5} - 6 r^{6} x^{4} + 2 r^{6} x^{3} - r^{5} x^{4} + 2 r^{5} x^{3} - r^{5} x^{2} - r^{4} x^{4} + 2 r^{4} x^{3} - r^{4} x^{2} - r^{3} x^{2} + r^{3} x - x$"
      ],
      "text/plain": [
       "   7  8      7  7      7  6      7  5    7  4      6  6      6  5      6  4   \n",
       "- r ⋅x  + 4⋅r ⋅x  - 6⋅r ⋅x  + 4⋅r ⋅x  - r ⋅x  - 2⋅r ⋅x  + 6⋅r ⋅x  - 6⋅r ⋅x  + \n",
       "\n",
       "   6  3    5  4      5  3    5  2    4  4      4  3    4  2    3  2    3      \n",
       "2⋅r ⋅x  - r ⋅x  + 2⋅r ⋅x  - r ⋅x  - r ⋅x  + 2⋅r ⋅x  - r ⋅x  - r ⋅x  + r ⋅x - x"
      ]
     },
     "execution_count": 60,
     "metadata": {},
     "output_type": "execute_result"
    }
   ],
   "source": [
    "expand(fff-x)"
   ]
  },
  {
   "cell_type": "code",
   "execution_count": 59,
   "metadata": {
    "ExecuteTime": {
     "end_time": "2019-10-23T14:20:44.521456Z",
     "start_time": "2019-10-23T14:20:44.289989Z"
    }
   },
   "outputs": [
    {
     "data": {
      "image/png": "[encoded data removed]",
      "text/latex": [
       "$\\displaystyle - x \\left(r^{3} \\left(x - 1\\right) \\left(r x \\left(x - 1\\right) + 1\\right) \\left(- r^{2} x \\left(x - 1\\right) \\left(- r x \\left(x - 1\\right) - 1\\right) + 1\\right) + 1\\right)$"
      ],
      "text/plain": [
       "   ⎛ 3                           ⎛   2                                 ⎞    ⎞\n",
       "-x⋅⎝r ⋅(x - 1)⋅(r⋅x⋅(x - 1) + 1)⋅⎝- r ⋅x⋅(x - 1)⋅(-r⋅x⋅(x - 1) - 1) + 1⎠ + 1⎠"
      ]
     },
     "execution_count": 59,
     "metadata": {},
     "output_type": "execute_result"
    }
   ],
   "source": [
    "simplify(fff-x)"
   ]
  },
  {
   "cell_type": "code",
   "execution_count": 62,
   "metadata": {
    "ExecuteTime": {
     "end_time": "2019-10-23T14:29:09.407952Z",
     "start_time": "2019-10-23T14:29:09.240051Z"
    }
   },
   "outputs": [
    {
     "data": {
      "image/png": "[encoded data removed]",
      "text/latex": [
       "$\\displaystyle \\left[ 0, \\  \\frac{r - 1}{r}\\right]$"
      ],
      "text/plain": [
       "⎡   r - 1⎤\n",
       "⎢0, ─────⎥\n",
       "⎣     r  ⎦"
      ]
     },
     "execution_count": 62,
     "metadata": {},
     "output_type": "execute_result"
    }
   ],
   "source": [
    "solve(fff-x,x)"
   ]
  },
  {
   "cell_type": "markdown",
   "metadata": {},
   "source": [
    "### 周期轨道的稳定性分析\n",
    "\n",
    "#### 周期一轨道"
   ]
  },
  {
   "cell_type": "code",
   "execution_count": 65,
   "metadata": {
    "ExecuteTime": {
     "end_time": "2019-10-23T14:32:21.122967Z",
     "start_time": "2019-10-23T14:32:21.026022Z"
    }
   },
   "outputs": [
    {
     "data": {
      "image/png": "[encoded data removed]",
      "text/latex": [
       "$\\displaystyle r$"
      ],
      "text/plain": [
       "r"
      ]
     },
     "execution_count": 65,
     "metadata": {},
     "output_type": "execute_result"
    }
   ],
   "source": [
    "diff(f,x).subs(x,0)"
   ]
  },
  {
   "cell_type": "code",
   "execution_count": 68,
   "metadata": {
    "ExecuteTime": {
     "end_time": "2019-10-23T14:33:38.586928Z",
     "start_time": "2019-10-23T14:33:38.483991Z"
    }
   },
   "outputs": [
    {
     "data": {
      "image/png": "[encoded data removed]",
      "text/latex": [
       "$\\displaystyle r \\left(1 - \\frac{r - 1}{r}\\right) - r + 1$"
      ],
      "text/plain": [
       "  ⎛    r - 1⎞        \n",
       "r⋅⎜1 - ─────⎟ - r + 1\n",
       "  ⎝      r  ⎠        "
      ]
     },
     "execution_count": 68,
     "metadata": {},
     "output_type": "execute_result"
    }
   ],
   "source": [
    "diff(f,x).subs(x,(r-1)/r)"
   ]
  },
  {
   "cell_type": "markdown",
   "metadata": {},
   "source": [
    "#### 周期二轨道"
   ]
  },
  {
   "cell_type": "code",
   "execution_count": null,
   "metadata": {},
   "outputs": [],
   "source": []
  }
 ],
 "metadata": {
  "hide_input": false,
  "kernelspec": {
   "display_name": "Python 3",
   "language": "python",
   "name": "python3"
  },
  "language_info": {
   "codemirror_mode": {
    "name": "ipython",
    "version": 3
   },
   "file_extension": ".py",
   "mimetype": "text/x-python",
   "name": "python",
   "nbconvert_exporter": "python",
   "pygments_lexer": "ipython3",
   "version": "3.7.3"
  },
  "toc": {
   "base_numbering": 1,
   "nav_menu": {},
   "number_sections": true,
   "sideBar": true,
   "skip_h1_title": false,
   "title_cell": "Table of Contents",
   "title_sidebar": "Contents",
   "toc_cell": false,
   "toc_position": {},
   "toc_section_display": true,
   "toc_window_display": false
  },
  "varInspector": {
   "cols": {
    "lenName": 16,
    "lenType": 16,
    "lenVar": 40
   },
   "kernels_config": {
    "python": {
     "delete_cmd_postfix": "",
     "delete_cmd_prefix": "del ",
     "library": "var_list.py",
     "varRefreshCmd": "print(var_dic_list())"
    },
    "r": {
     "delete_cmd_postfix": ") ",
     "delete_cmd_prefix": "rm(",
     "library": "var_list.r",
     "varRefreshCmd": "cat(var_dic_list()) "
    }
   },
   "types_to_exclude": [
    "module",
    "function",
    "builtin_function_or_method",
    "instance",
    "_Feature"
   ],
   "window_display": false
  }
 },
 "nbformat": 4,
 "nbformat_minor": 2
}
