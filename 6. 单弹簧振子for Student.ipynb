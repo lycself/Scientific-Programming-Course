{
 "cells": [
  {
   "cell_type": "markdown",
   "metadata": {},
   "source": [
    "# 单振子\n",
    "\n",
    "## 问题描述：\n",
    "\n",
    "一根弹簧，一段固定于墙，另一端链接一个小球\n",
    "\n",
    "## 弹簧的势能：\n",
    "\n",
    "$$V(x)=\\frac{1}{2}kx^2+\\frac{1}{3}\\alpha x^3+ \\frac{1}{4} \\beta x^4$$\n",
    "\n",
    "其中 $k$、$\\alpha$ 和 $\\beta$ 是弹簧的系数，$x$ 是小球相对平衡态位置的偏离。\n",
    "\n",
    "## 利用 `odeint` 数值求解小球的动力学\n",
    "\n",
    "- 小球质量和 $k$ 取 $1$. \n",
    "- 初始条件：给定一固定能量,初始位移取 $0$，根据指定能量给出小球初始动量。\n",
    "- 首先计算 $\\alpha = \\beta =0 $的情况。这就是简谐振子。解析求解之。并跟数值结果对照，以此校验程序是否正确。输出结果：1）位移、动量随时间的演化图；2）相图 $x-p$；3）检验能量随时间是否守恒\n",
    "\n",
    "## 探索小球动力学如何随非线性系数 $\\beta$ 以及 $\\alpha$ 变化"
   ]
  },
  {
   "cell_type": "code",
   "execution_count": 1,
   "metadata": {
    "ExecuteTime": {
     "end_time": "2019-11-13T16:21:43.111002Z",
     "start_time": "2019-11-13T16:21:40.622279Z"
    }
   },
   "outputs": [],
   "source": [
    "import matplotlib.pyplot as plt # 导入图形库\n",
    "import numpy as np\n",
    "from scipy.integrate import odeint # 一阶常微分方程组的数值程序\n",
    "%matplotlib inline"
   ]
  },
  {
   "cell_type": "markdown",
   "metadata": {},
   "source": [
    "## 简谐振子 $\\alpha =0$ 且 $\\beta =0$"
   ]
  },
  {
   "cell_type": "code",
   "execution_count": null,
   "metadata": {},
   "outputs": [],
   "source": []
  },
  {
   "cell_type": "code",
   "execution_count": null,
   "metadata": {},
   "outputs": [],
   "source": []
  },
  {
   "cell_type": "markdown",
   "metadata": {},
   "source": [
    "## 非线性振子 $\\alpha= 0$ 且 $\\beta \\not = 0$"
   ]
  },
  {
   "cell_type": "code",
   "execution_count": null,
   "metadata": {},
   "outputs": [],
   "source": []
  },
  {
   "cell_type": "code",
   "execution_count": null,
   "metadata": {},
   "outputs": [],
   "source": []
  },
  {
   "cell_type": "markdown",
   "metadata": {},
   "source": [
    "## 非线性振子 $\\alpha \\not= 0\\$"
   ]
  },
  {
   "cell_type": "code",
   "execution_count": null,
   "metadata": {},
   "outputs": [],
   "source": []
  }
 ],
 "metadata": {
  "hide_input": false,
  "kernelspec": {
   "display_name": "Python 3",
   "language": "python",
   "name": "python3"
  },
  "language_info": {
   "codemirror_mode": {
    "name": "ipython",
    "version": 3
   },
   "file_extension": ".py",
   "mimetype": "text/x-python",
   "name": "python",
   "nbconvert_exporter": "python",
   "pygments_lexer": "ipython3",
   "version": "3.7.4"
  },
  "toc": {
   "base_numbering": 1,
   "nav_menu": {},
   "number_sections": true,
   "sideBar": true,
   "skip_h1_title": false,
   "title_cell": "Table of Contents",
   "title_sidebar": "Contents",
   "toc_cell": false,
   "toc_position": {},
   "toc_section_display": true,
   "toc_window_display": false
  },
  "varInspector": {
   "cols": {
    "lenName": 16,
    "lenType": 16,
    "lenVar": 40
   },
   "kernels_config": {
    "python": {
     "delete_cmd_postfix": "",
     "delete_cmd_prefix": "del ",
     "library": "var_list.py",
     "varRefreshCmd": "print(var_dic_list())"
    },
    "r": {
     "delete_cmd_postfix": ") ",
     "delete_cmd_prefix": "rm(",
     "library": "var_list.r",
     "varRefreshCmd": "cat(var_dic_list()) "
    }
   },
   "types_to_exclude": [
    "module",
    "function",
    "builtin_function_or_method",
    "instance",
    "_Feature"
   ],
   "window_display": false
  }
 },
 "nbformat": 4,
 "nbformat_minor": 2
}
