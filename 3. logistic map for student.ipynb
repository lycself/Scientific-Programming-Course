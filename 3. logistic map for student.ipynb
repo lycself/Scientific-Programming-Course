{
 "cells": [
  {
   "cell_type": "markdown",
   "metadata": {},
   "source": [
    "# <span style=\"color:red;\"> Chaos</span> Dynamics \n",
    "# <span style=\"color:red;\">混沌</span> 动力学\n",
    "\n",
    "# <span style=\"color:red;\">Nonlinear</span> Dynamics\n",
    "# <span style=\"color:red;\">非线性</span> 动力学"
   ]
  },
  {
   "cell_type": "markdown",
   "metadata": {},
   "source": [
    "## 1. 虫口模型 Logistic Map\n",
    "\n",
    "迭代方程： $$x_{n+1}=r x_{n}(1-x_{n}) ，  x \\in [0,1], r \\in [0,4]$$\n",
    "\n",
    "定义了一个简单的**确定性**的动力学过程。即只要给定初始值 $x_{0}$，就能够确切的知道迭代 $n$ 次后的值 $x_{n}$。\n",
    "\n",
    "我们下面将通过一些简单的计算来探索 Logistic Map 的动力学性质。"
   ]
  },
  {
   "cell_type": "code",
   "execution_count": 2,
   "metadata": {
    "ExecuteTime": {
     "end_time": "2019-10-16T15:27:30.999204Z",
     "start_time": "2019-10-16T15:27:30.993189Z"
    },
    "hide_input": true
   },
   "outputs": [],
   "source": [
    "# 导入必要的库\n",
    "import matplotlib.pyplot as plt \n",
    "import numpy as np\n",
    "%matplotlib inline"
   ]
  },
  {
   "cell_type": "markdown",
   "metadata": {},
   "source": [
    "###  画 Logistic 函数的图像\n",
    "\n",
    "请画出$r=0.5$ 和 $r=4$ 时函数 $y=rx(1-x)$ 的图像，同时也画上 $y=x$.\n"
   ]
  },
  {
   "cell_type": "code",
   "execution_count": 9,
   "metadata": {},
   "outputs": [
    {
     "data": {
      "text/plain": [
       "<matplotlib.legend.Legend at 0x23f0f65af60>"
      ]
     },
     "execution_count": 9,
     "metadata": {},
     "output_type": "execute_result"
    },
    {
     "data": {
      "image/png": "[encoded data removed]",
      "text/plain": [
       "<Figure size 432x288 with 1 Axes>"
      ]
     },
     "metadata": {
      "needs_background": "light"
     },
     "output_type": "display_data"
    }
   ],
   "source": [
    "x = np.linspace(0,1,20)\n",
    "y = 4*x*(1-x)\n",
    "y2=x\n",
    "plt.xlabel(\"$X$\")\n",
    "plt.ylabel(\"$Y$\")\n",
    "plt.title(\"Function Pics\")\n",
    "plt.plot(x,y,\"gs--\",markersize=6,linewidth=1,markerfacecolor=\"None\",label=\"first\")\n",
    "plt.plot(x,y2,\"ro--\",markersize=6,linewidth=1,markerfacecolor=\"None\",label=\"second\")\n",
    "plt.axis([0,1,0,1]) # plt.axis([Xmin,Xmax,Ymin,Ymax])\n",
    "plt.legend(loc=\"best\")\n"
   ]
  },
  {
   "cell_type": "markdown",
   "metadata": {},
   "source": [
    "### 探索迭代动力学\n",
    "\n",
    "给某个初值$x_0$启动迭代过程，长时间后，$x$ 会是什么值？请在如下参数下，画出 $x$ 随迭代步数 $n$的图像。\n",
    "\n",
    "- $ r = 0.5 $\n",
    "\n",
    "\n",
    "- $ r = 2 $  \n",
    "\n",
    "\n",
    "- $ r=3.3 $  \n",
    "\n",
    "\n",
    "- $ r=3.5 $  \n",
    "\n",
    "\n",
    "- $ r=3.9 $ \n",
    "\n",
    "\n"
   ]
  },
  {
   "cell_type": "code",
   "execution_count": null,
   "metadata": {
    "collapsed": true
   },
   "outputs": [],
   "source": []
  },
  {
   "cell_type": "markdown",
   "metadata": {
    "collapsed": true
   },
   "source": [
    "画出长时间演化后，$x$ 的分布图。"
   ]
  },
  {
   "cell_type": "code",
   "execution_count": null,
   "metadata": {
    "collapsed": true
   },
   "outputs": [],
   "source": []
  },
  {
   "cell_type": "code",
   "execution_count": null,
   "metadata": {
    "collapsed": true
   },
   "outputs": [],
   "source": []
  },
  {
   "cell_type": "markdown",
   "metadata": {
    "collapsed": true
   },
   "source": [
    "### 画出 Logistic Map 的分叉图\n",
    "\n",
    "$x$ 轴是参数 $r \\in [0,4]$; $y$ 轴 是长时间迭代后的 $x$ 值，$x \\in [0,1]$"
   ]
  },
  {
   "cell_type": "code",
   "execution_count": null,
   "metadata": {},
   "outputs": [],
   "source": [
    "作业"
   ]
  }
 ],
 "metadata": {
  "hide_input": false,
  "kernelspec": {
   "display_name": "Python 3",
   "language": "python",
   "name": "python3"
  },
  "language_info": {
   "codemirror_mode": {
    "name": "ipython",
    "version": 3
   },
   "file_extension": ".py",
   "mimetype": "text/x-python",
   "name": "python",
   "nbconvert_exporter": "python",
   "pygments_lexer": "ipython3",
   "version": "3.7.3"
  },
  "toc": {
   "base_numbering": 1,
   "nav_menu": {},
   "number_sections": true,
   "sideBar": true,
   "skip_h1_title": false,
   "title_cell": "Table of Contents",
   "title_sidebar": "Contents",
   "toc_cell": false,
   "toc_position": {},
   "toc_section_display": true,
   "toc_window_display": false
  },
  "varInspector": {
   "cols": {
    "lenName": 16,
    "lenType": 16,
    "lenVar": 40
   },
   "kernels_config": {
    "python": {
     "delete_cmd_postfix": "",
     "delete_cmd_prefix": "del ",
     "library": "var_list.py",
     "varRefreshCmd": "print(var_dic_list())"
    },
    "r": {
     "delete_cmd_postfix": ") ",
     "delete_cmd_prefix": "rm(",
     "library": "var_list.r",
     "varRefreshCmd": "cat(var_dic_list()) "
    }
   },
   "types_to_exclude": [
    "module",
    "function",
    "builtin_function_or_method",
    "instance",
    "_Feature"
   ],
   "window_display": false
  }
 },
 "nbformat": 4,
 "nbformat_minor": 2
}
