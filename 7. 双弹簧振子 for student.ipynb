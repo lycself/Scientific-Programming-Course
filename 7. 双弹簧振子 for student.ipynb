{
 "cells": [
  {
   "cell_type": "markdown",
   "metadata": {},
   "source": [
    "# 双弹簧两端固定\n",
    "\n",
    "\n",
    "## 问题描述：\n",
    "\n",
    "两个小球通过弹簧相连，并且另一端通过弹簧固定在墙上。所有弹簧性质都一样。\n",
    "\n",
    "\n",
    "\n",
    "\n",
    "\n",
    "\n"
   ]
  },
  {
   "cell_type": "markdown",
   "metadata": {},
   "source": [
    "## 弹簧的势能：\n",
    "\n",
    "$$V(x)=\\frac{1}{2}kx^2+\\frac{1}{3}\\alpha x^3+ \\frac{1}{4} \\beta x^4$$\n",
    "\n",
    "其中 $k$、$\\alpha$ 和 $\\beta$ 是弹簧的系数，$x$ 是小球相对平衡态位置的偏离。"
   ]
  },
  {
   "cell_type": "code",
   "execution_count": 1,
   "metadata": {
    "ExecuteTime": {
     "end_time": "2019-11-20T15:53:43.188680Z",
     "start_time": "2019-11-20T15:53:41.433870Z"
    }
   },
   "outputs": [],
   "source": [
    "import matplotlib.pyplot as plt # 导入图形库\n",
    "import numpy as np\n",
    "from scipy.integrate import odeint # 一阶常微分方程组的数值程序\n",
    "%matplotlib inline"
   ]
  },
  {
   "cell_type": "markdown",
   "metadata": {},
   "source": [
    "\n",
    "## 运动方程\n",
    "\n",
    "设第一个粒子的相对位移和动量为 $x_1$ 和 $p_1$; 第二个粒子的相对位移和动量分别为 $x_2$ 和 $p_2$。则系统总的哈密顿量为：\n",
    "\n",
    "$$H = \\frac{p^2}{2m}+V(x) = \\frac{p_1^2}{2m} + \\frac{p_2^2}{2m} + V(x_1)+V(x_2-x_1)+V(-x_2)$$\n",
    "\n",
    "其中，$V(x)=\\frac{1}{2}kx^2+\\frac{1}{3}\\alpha x^3+ \\frac{1}{4} \\beta x^4$。\n",
    "\n",
    "则系统的运动方程为：\n",
    "\n",
    "$$ \\left\\{\n",
    "\\begin{array}{lll}\n",
    "\\dot x_1  =\\frac{\\partial H}{\\partial p_1}= \\frac{p_1}{m} \\\\\n",
    "\\dot x_2 = \\frac{\\partial H}{\\partial p_2}= \\frac{p_2}{m} \\\\\n",
    "\\dot p_1  = - \\frac{\\partial H}{\\partial x_1}= f(x_1)-f(x_2-x_1) \\\\\n",
    "\\dot p_2 = - \\frac{\\partial H}{\\partial x_2}=f(x_2-x_1)-f(-x_2)\n",
    "\\end{array}\n",
    "\\right.$$\n",
    "\n",
    "其中，$f(x) = - \\frac{\\partial V(x)}{\\partial x} = -kx-ax^2-bx^3$。\n",
    "\n",
    "\n",
    "得到这个一阶方程组后，就可以用`odeint`进行数值积分。\n",
    "\n",
    "运动方程矢量化后的形式为：$\\dot X = F$\n",
    "\n",
    "其中 $X = \\begin{bmatrix}x_1 \\\\ x_2 \\\\ p_1 \\\\p_2\\end{bmatrix}$\n",
    "\n",
    "$F = \\begin{bmatrix} \\frac{p_1}{m}\\\\ \\frac{p_2}{m}\\\\ f(x_1)-f(x_2-x_1)\\\\f(x_2-x_1)-f(-x_2) \\end{bmatrix}$"
   ]
  },
  {
   "cell_type": "code",
   "execution_count": 2,
   "metadata": {
    "ExecuteTime": {
     "end_time": "2019-11-20T15:54:16.646392Z",
     "start_time": "2019-11-20T15:54:16.637401Z"
    }
   },
   "outputs": [],
   "source": [
    "\n",
    "\n"
   ]
  },
  {
   "cell_type": "markdown",
   "metadata": {},
   "source": [
    "\n",
    "## 利用 `odeint` 数值求解小球的动力学\n",
    "\n",
    "- 小球$m=1$. \n",
    "- 初始条件：给定一固定能量,初始位移取 $0$，根据指定能量给出小球初始动量。即，初始时刻只给系统动能。\n",
    "- 输出结果：1）位移、动量随时间的演化图；2）相图 $x-p$；3）检验能量随时间是否守恒"
   ]
  },
  {
   "cell_type": "markdown",
   "metadata": {},
   "source": []
  },
  {
   "cell_type": "code",
   "execution_count": 64,
   "metadata": {
    "ExecuteTime": {
     "end_time": "2019-11-20T16:40:54.258693Z",
     "start_time": "2019-11-20T16:40:50.009291Z"
    }
   },
   "outputs": [],
   "source": []
  },
  {
   "cell_type": "markdown",
   "metadata": {},
   "source": [
    "\n"
   ]
  },
  {
   "cell_type": "code",
   "execution_count": 1,
   "metadata": {
    "ExecuteTime": {
     "end_time": "2019-11-20T09:04:16.906298Z",
     "start_time": "2019-11-20T09:04:16.372131Z"
    }
   },
   "outputs": [],
   "source": []
  },
  {
   "cell_type": "code",
   "execution_count": 31,
   "metadata": {
    "ExecuteTime": {
     "end_time": "2019-11-20T09:15:00.232931Z",
     "start_time": "2019-11-20T09:15:00.224952Z"
    }
   },
   "outputs": [],
   "source": []
  },
  {
   "cell_type": "code",
   "execution_count": 35,
   "metadata": {
    "ExecuteTime": {
     "end_time": "2019-11-20T09:19:40.502309Z",
     "start_time": "2019-11-20T09:19:34.980488Z"
    }
   },
   "outputs": [],
   "source": []
  },
  {
   "cell_type": "markdown",
   "metadata": {},
   "source": [
    "# 检验能量是否守恒？"
   ]
  },
  {
   "cell_type": "code",
   "execution_count": null,
   "metadata": {
    "ExecuteTime": {
     "end_time": "2019-11-20T16:41:06.230229Z",
     "start_time": "2019-11-20T16:41:04.423701Z"
    }
   },
   "outputs": [],
   "source": []
  },
  {
   "cell_type": "markdown",
   "metadata": {},
   "source": [
    "### 状态演化：$x_1$ vs $t$ ; $x_2$ vs $t$ ; $p_1$ vs $t$ ; $p_2$ vs $t$"
   ]
  },
  {
   "cell_type": "code",
   "execution_count": null,
   "metadata": {
    "ExecuteTime": {
     "end_time": "2019-11-20T16:41:08.085533Z",
     "start_time": "2019-11-20T16:41:07.332782Z"
    }
   },
   "outputs": [],
   "source": []
  },
  {
   "cell_type": "markdown",
   "metadata": {},
   "source": [
    "# 相图"
   ]
  },
  {
   "cell_type": "code",
   "execution_count": null,
   "metadata": {
    "ExecuteTime": {
     "end_time": "2019-11-20T16:41:12.702370Z",
     "start_time": "2019-11-20T16:41:10.572165Z"
    }
   },
   "outputs": [],
   "source": []
  },
  {
   "cell_type": "code",
   "execution_count": null,
   "metadata": {
    "ExecuteTime": {
     "end_time": "2019-11-20T16:54:16.653176Z",
     "start_time": "2019-11-20T16:54:16.423123Z"
    }
   },
   "outputs": [],
   "source": []
  },
  {
   "cell_type": "markdown",
   "metadata": {
    "collapsed": true
   },
   "source": [
    "# 庞加莱截面\n",
    "\n",
    "双振子系统的相空间是四维的。由于能量守恒，相空间被约束在一个三维超曲面上。我们用庞加莱截面来展示其运动规律。"
   ]
  },
  {
   "cell_type": "code",
   "execution_count": null,
   "metadata": {
    "ExecuteTime": {
     "end_time": "2019-11-20T16:41:33.681946Z",
     "start_time": "2019-11-20T16:41:22.922075Z"
    }
   },
   "outputs": [],
   "source": []
  },
  {
   "cell_type": "markdown",
   "metadata": {},
   "source": [
    "### 非线性振子：$k=1$ & $\\alpha = 0$ & 变化 $\\beta$"
   ]
  },
  {
   "cell_type": "code",
   "execution_count": 74,
   "metadata": {
    "ExecuteTime": {
     "end_time": "2019-11-20T16:45:29.066677Z",
     "start_time": "2019-11-20T16:45:13.324379Z"
    }
   },
   "outputs": [],
   "source": []
  },
  {
   "cell_type": "markdown",
   "metadata": {
    "collapsed": true
   },
   "source": []
  },
  {
   "cell_type": "code",
   "execution_count": null,
   "metadata": {
    "ExecuteTime": {
     "end_time": "2019-11-20T16:45:30.713804Z",
     "start_time": "2019-11-20T16:45:29.098562Z"
    }
   },
   "outputs": [],
   "source": []
  },
  {
   "cell_type": "code",
   "execution_count": null,
   "metadata": {
    "ExecuteTime": {
     "end_time": "2019-11-20T16:45:39.784226Z",
     "start_time": "2019-11-20T16:45:30.733791Z"
    }
   },
   "outputs": [],
   "source": []
  },
  {
   "cell_type": "code",
   "execution_count": null,
   "metadata": {
    "ExecuteTime": {
     "end_time": "2019-11-20T16:45:52.064046Z",
     "start_time": "2019-11-20T16:45:39.805213Z"
    }
   },
   "outputs": [],
   "source": [
    "\n"
   ]
  },
  {
   "cell_type": "markdown",
   "metadata": {},
   "source": [
    "### 非线性振子：$k=1$ & $\\beta = 1$ 变化 $\\alpha$"
   ]
  },
  {
   "cell_type": "code",
   "execution_count": null,
   "metadata": {
    "ExecuteTime": {
     "end_time": "2019-11-20T16:47:26.685871Z",
     "start_time": "2019-11-20T16:47:19.776007Z"
    }
   },
   "outputs": [],
   "source": []
  },
  {
   "cell_type": "code",
   "execution_count": null,
   "metadata": {
    "ExecuteTime": {
     "end_time": "2019-11-20T16:47:27.904156Z",
     "start_time": "2019-11-20T16:47:26.722052Z"
    }
   },
   "outputs": [],
   "source": []
  },
  {
   "cell_type": "code",
   "execution_count": null,
   "metadata": {
    "ExecuteTime": {
     "end_time": "2019-11-20T16:47:32.241285Z",
     "start_time": "2019-11-20T16:47:27.928141Z"
    }
   },
   "outputs": [],
   "source": []
  },
  {
   "cell_type": "code",
   "execution_count": null,
   "metadata": {
    "ExecuteTime": {
     "end_time": "2019-11-20T16:47:42.955176Z",
     "start_time": "2019-11-20T16:47:32.265270Z"
    }
   },
   "outputs": [],
   "source": []
  },
  {
   "cell_type": "markdown",
   "metadata": {},
   "source": [
    "## 第四次作业 非线性双振子\n",
    "\n",
    "- 分对称非线性($\\alpha = 0$)和非对称非线性($\\alpha \\not = 0$ )讨论。\n",
    "\n",
    "- 函数图，相图，时间演化图\n",
    "\n",
    "- 利用庞加莱截面以及最大李雅普诺夫指数探索其混沌性质，对比对称非线性和不对称非线性的不同。\n",
    "\n",
    "\n"
   ]
  },
  {
   "cell_type": "code",
   "execution_count": null,
   "metadata": {},
   "outputs": [],
   "source": []
  }
 ],
 "metadata": {
  "hide_input": false,
  "kernelspec": {
   "display_name": "Python 3",
   "language": "python",
   "name": "python3"
  },
  "language_info": {
   "codemirror_mode": {
    "name": "ipython",
    "version": 3
   },
   "file_extension": ".py",
   "mimetype": "text/x-python",
   "name": "python",
   "nbconvert_exporter": "python",
   "pygments_lexer": "ipython3",
   "version": "3.7.3"
  },
  "toc": {
   "base_numbering": 1,
   "nav_menu": {},
   "number_sections": true,
   "sideBar": true,
   "skip_h1_title": false,
   "title_cell": "Table of Contents",
   "title_sidebar": "Contents",
   "toc_cell": false,
   "toc_position": {},
   "toc_section_display": true,
   "toc_window_display": true
  },
  "varInspector": {
   "cols": {
    "lenName": 16,
    "lenType": 16,
    "lenVar": 40
   },
   "kernels_config": {
    "python": {
     "delete_cmd_postfix": "",
     "delete_cmd_prefix": "del ",
     "library": "var_list.py",
     "varRefreshCmd": "print(var_dic_list())"
    },
    "r": {
     "delete_cmd_postfix": ") ",
     "delete_cmd_prefix": "rm(",
     "library": "var_list.r",
     "varRefreshCmd": "cat(var_dic_list()) "
    }
   },
   "types_to_exclude": [
    "module",
    "function",
    "builtin_function_or_method",
    "instance",
    "_Feature"
   ],
   "window_display": false
  }
 },
 "nbformat": 4,
 "nbformat_minor": 2
}
