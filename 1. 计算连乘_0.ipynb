{
 "cells": [
  {
   "cell_type": "markdown",
   "metadata": {},
   "source": [
    "# <center>一、计算阶乘</center>"
   ]
  },
  {
   "cell_type": "markdown",
   "metadata": {},
   "source": [
    "## 主要内容\n",
    "阶乘（factorial) 的定义：$n!=1\\times2\\times...\\times n$\n",
    "\n",
    "尝试用多种方法实现阶乘计算。\n",
    "\n",
    "通过这个例子，熟悉 Python 语言特点：\n",
    "- loop(`while` and `for`)\n",
    "- define function( `def`)\n",
    "- `print` 的用法\n",
    "- 导入 **modules**"
   ]
  },
  {
   "cell_type": "markdown",
   "metadata": {},
   "source": [
    "## 第一种方法： for loop"
   ]
  },
  {
   "cell_type": "code",
   "execution_count": 43,
   "metadata": {
    "ExecuteTime": {
     "end_time": "2019-09-25T11:00:03.659307Z",
     "start_time": "2019-09-25T11:00:03.654319Z"
    }
   },
   "outputs": [
    {
     "name": "stdout",
     "output_type": "stream",
     "text": [
      "1 的阶乘是： 1\n",
      "2 的阶乘是： 2\n",
      "3 的阶乘是： 6\n",
      "4 的阶乘是： 24\n",
      "5 的阶乘是： 120\n",
      "6 的阶乘是： 720\n",
      "7 的阶乘是： 5040\n"
     ]
    }
   ],
   "source": [
    "n = 7\n",
    "ans = 1\n",
    "for i in range(1,n+1):\n",
    "    ans = ans*i\n",
    "#    print(\"%s的阶乘是:%s\"%(i,ans))\n",
    "#    print(\"{}的阶乘是：{}\".format(i,ans))\n",
    "    print(i,\"的阶乘是：\",ans)"
   ]
  },
  {
   "cell_type": "code",
   "execution_count": null,
   "metadata": {
    "collapsed": true
   },
   "outputs": [],
   "source": []
  },
  {
   "cell_type": "markdown",
   "metadata": {},
   "source": [
    "## 第二种方法：while loop"
   ]
  },
  {
   "cell_type": "code",
   "execution_count": 9,
   "metadata": {
    "ExecuteTime": {
     "end_time": "2019-09-25T10:29:56.413029Z",
     "start_time": "2019-09-25T10:29:56.408043Z"
    }
   },
   "outputs": [
    {
     "name": "stdout",
     "output_type": "stream",
     "text": [
      "2的阶乘是:2\n",
      "3的阶乘是:6\n"
     ]
    }
   ],
   "source": [
    "n = 3\n",
    "i = 2\n",
    "ans = 1\n",
    "while i < n+1:\n",
    "    ans = ans*i\n",
    "    print(\"%s的阶乘是:%s\"%(i,ans))\n",
    "    i = i +1\n",
    "   "
   ]
  },
  {
   "cell_type": "markdown",
   "metadata": {
    "collapsed": true
   },
   "source": [
    "# <center>一、计算阶乘</center>"
   ]
  },
  {
   "cell_type": "markdown",
   "metadata": {},
   "source": [
    "## 哈哈哈"
   ]
  },
  {
   "cell_type": "markdown",
   "metadata": {},
   "source": [
    "## 第三种方法：直接函数调用\n",
    "\n",
    "在 `Numpy` 模块中，用内置的阶乘函数 `factorial()`"
   ]
  },
  {
   "cell_type": "code",
   "execution_count": 15,
   "metadata": {
    "ExecuteTime": {
     "end_time": "2019-09-25T10:31:09.691632Z",
     "start_time": "2019-09-25T10:31:09.687644Z"
    }
   },
   "outputs": [
    {
     "data": {
      "text/plain": [
       "120"
      ]
     },
     "execution_count": 15,
     "metadata": {},
     "output_type": "execute_result"
    }
   ],
   "source": [
    "import numpy as np\n",
    "np.math.factorial(5)\n",
    "#import math\n",
    "#math.factorial(5)\n"
   ]
  },
  {
   "cell_type": "code",
   "execution_count": 12,
   "metadata": {
    "ExecuteTime": {
     "end_time": "2019-09-25T10:30:38.674865Z",
     "start_time": "2019-09-25T10:30:38.663881Z"
    }
   },
   "outputs": [
    {
     "name": "stdout",
     "output_type": "stream",
     "text": [
      "Help on built-in function factorial in module math:\n",
      "\n",
      "factorial(x, /)\n",
      "    Find x!.\n",
      "    \n",
      "    Raise a ValueError if x is negative or non-integral.\n",
      "\n"
     ]
    }
   ],
   "source": [
    "help(np.math.factorial)"
   ]
  },
  {
   "cell_type": "code",
   "execution_count": null,
   "metadata": {
    "collapsed": true
   },
   "outputs": [],
   "source": []
  },
  {
   "cell_type": "code",
   "execution_count": null,
   "metadata": {
    "collapsed": true
   },
   "outputs": [],
   "source": []
  },
  {
   "cell_type": "markdown",
   "metadata": {},
   "source": [
    "## 自定义函数"
   ]
  },
  {
   "cell_type": "code",
   "execution_count": 33,
   "metadata": {
    "ExecuteTime": {
     "end_time": "2019-09-25T10:49:27.022169Z",
     "start_time": "2019-09-25T10:49:27.018151Z"
    }
   },
   "outputs": [],
   "source": [
    "def myfactorial(n): \n",
    "    \n",
    "    \"\"\"\n",
    "    help1lslsl\n",
    "    第二行说明\n",
    "    第三行说明\n",
    "    \"\"\"\n",
    "    ans = 1\n",
    "    for ii in range(1,n+1):\n",
    "        ans *= ii\n",
    "    return ans"
   ]
  },
  {
   "cell_type": "code",
   "execution_count": 34,
   "metadata": {
    "ExecuteTime": {
     "end_time": "2019-09-25T10:49:29.114609Z",
     "start_time": "2019-09-25T10:49:29.110644Z"
    }
   },
   "outputs": [
    {
     "name": "stdout",
     "output_type": "stream",
     "text": [
      "Help on function myfactorial in module __main__:\n",
      "\n",
      "myfactorial(n)\n",
      "    help1lslsl\n",
      "    第二行说明\n",
      "    第三行说明\n",
      "\n"
     ]
    }
   ],
   "source": [
    "help(myfactorial)"
   ]
  },
  {
   "cell_type": "code",
   "execution_count": 41,
   "metadata": {
    "ExecuteTime": {
     "end_time": "2019-09-25T10:52:45.354659Z",
     "start_time": "2019-09-25T10:52:45.350641Z"
    }
   },
   "outputs": [],
   "source": [
    "# %load myfunction.py\n",
    "def myfactorial(n):\n",
    "\n",
    "    \"\"\"\n",
    "    自定义计算阶乘的函数\n",
    "    n 是非负整数\n",
    "    例子：\n",
    "    myfactorial(3)=1*2*3=6\n",
    "    \"\"\"\n",
    "\n",
    "    if type(n) != int:\n",
    "        print(\"请输入非负整数！\")\n",
    "        return None\n",
    "\n",
    "    if n < 0 :\n",
    "        print(\"请输入非负整数！\")\n",
    "        return None\n",
    "\n",
    "    ans = 1\n",
    "    for i in range(1,n+1):\n",
    "        ans *= i\n",
    "    return ans\n"
   ]
  },
  {
   "cell_type": "code",
   "execution_count": 4,
   "metadata": {
    "collapsed": true
   },
   "outputs": [],
   "source": []
  },
  {
   "cell_type": "markdown",
   "metadata": {
    "ExecuteTime": {
     "end_time": "2019-09-25T10:32:59.228150Z",
     "start_time": "2019-09-25T10:32:59.224159Z"
    }
   },
   "source": [
    "### 作为模块引入\n",
    "将函数 function_name 保存在 file_name.py 文件中，可以通过 import 导入:\n",
    "> import file_name as fn\n",
    "\n",
    "> fn.function_name()"
   ]
  },
  {
   "cell_type": "code",
   "execution_count": 40,
   "metadata": {
    "ExecuteTime": {
     "end_time": "2019-09-25T10:52:16.282678Z",
     "start_time": "2019-09-25T10:52:16.278689Z"
    }
   },
   "outputs": [
    {
     "data": {
      "text/plain": [
       "1"
      ]
     },
     "execution_count": 40,
     "metadata": {},
     "output_type": "execute_result"
    }
   ],
   "source": [
    "import myfunction as fn\n",
    "\n",
    "fn.myfactorial(0)"
   ]
  },
  {
   "cell_type": "markdown",
   "metadata": {},
   "source": [
    "### 自定义函数注意事项\n",
    "- 命名合理（尽量不用用缩写）\n",
    "- 具有单一功能，一个函数只做一件事\n",
    "- 返回一个值\n",
    "- 代码不超过 50 行\n",
    "- 详尽的函数注释（参数说明，例子...）\n",
    "- 例外情况判断（尽量考虑所有情况！）\n",
    "- 独立天地，不与函数外其他部分发生关联（包括 print()，input）\n",
    "    - 纯函数：在任何上下文环境下，相同的输入总是对应相同的输出。\n"
   ]
  },
  {
   "cell_type": "markdown",
   "metadata": {},
   "source": [
    "## 第四种方法：递归函数"
   ]
  },
  {
   "cell_type": "code",
   "execution_count": 19,
   "metadata": {
    "ExecuteTime": {
     "end_time": "2019-09-25T10:32:12.541061Z",
     "start_time": "2019-09-25T10:32:12.537074Z"
    }
   },
   "outputs": [],
   "source": [
    "def myfactorial2(n):\n",
    "    if n == 1:\n",
    "        return 1\n",
    "    else:\n",
    "        return n*myfactorial2(n-1)"
   ]
  },
  {
   "cell_type": "code",
   "execution_count": 20,
   "metadata": {
    "ExecuteTime": {
     "end_time": "2019-09-25T10:32:29.356481Z",
     "start_time": "2019-09-25T10:32:29.351493Z"
    }
   },
   "outputs": [
    {
     "data": {
      "text/plain": [
       "93326215443944152681699238856266700490715968264381621468592963895217599993229915608941463976156518286253697920827223758251185210916864000000000000000000000000"
      ]
     },
     "execution_count": 20,
     "metadata": {},
     "output_type": "execute_result"
    }
   ],
   "source": [
    "myfactorial2(100)"
   ]
  },
  {
   "cell_type": "markdown",
   "metadata": {},
   "source": [
    "## 第五种方法：reduce 函数\n",
    "\n",
    "- `reduce()` 函数在 python 2 是内置函数， 从 python 3 开始移到了 `functools` 模块。\n",
    "\n",
    "- 注意匿名函数的用法：关键字 `lambda`\n",
    "- 关于 `reduce` 函数的介绍，请参看这篇[网文](https://www.liaoxuefeng.com/wiki/1016959663602400/1017329367486080)"
   ]
  },
  {
   "cell_type": "code",
   "execution_count": 26,
   "metadata": {
    "ExecuteTime": {
     "end_time": "2019-09-25T10:41:01.308633Z",
     "start_time": "2019-09-25T10:41:01.303645Z"
    }
   },
   "outputs": [
    {
     "data": {
      "text/plain": [
       "93326215443944152681699238856266700490715968264381621468592963895217599993229915608941463976156518286253697920827223758251185210916864000000000000000000000000"
      ]
     },
     "execution_count": 26,
     "metadata": {},
     "output_type": "execute_result"
    }
   ],
   "source": [
    "n=100\n",
    "from functools import reduce\n",
    "reduce(lambda x,y:x*y,range(1,n+1))"
   ]
  },
  {
   "cell_type": "code",
   "execution_count": null,
   "metadata": {},
   "outputs": [],
   "source": []
  }
 ],
 "metadata": {
  "hide_input": false,
  "kernelspec": {
   "display_name": "Python 3",
   "language": "python",
   "name": "python3"
  },
  "language_info": {
   "codemirror_mode": {
    "name": "ipython",
    "version": 3
   },
   "file_extension": ".py",
   "mimetype": "text/x-python",
   "name": "python",
   "nbconvert_exporter": "python",
   "pygments_lexer": "ipython3",
   "version": "3.7.3"
  },
  "toc": {
   "base_numbering": 1,
   "nav_menu": {},
   "number_sections": true,
   "sideBar": true,
   "skip_h1_title": false,
   "title_cell": "Table of Contents",
   "title_sidebar": "Contents",
   "toc_cell": false,
   "toc_position": {},
   "toc_section_display": true,
   "toc_window_display": false
  },
  "varInspector": {
   "cols": {
    "lenName": 16,
    "lenType": 16,
    "lenVar": 40
   },
   "kernels_config": {
    "python": {
     "delete_cmd_postfix": "",
     "delete_cmd_prefix": "del ",
     "library": "var_list.py",
     "varRefreshCmd": "print(var_dic_list())"
    },
    "r": {
     "delete_cmd_postfix": ") ",
     "delete_cmd_prefix": "rm(",
     "library": "var_list.r",
     "varRefreshCmd": "cat(var_dic_list()) "
    }
   },
   "types_to_exclude": [
    "module",
    "function",
    "builtin_function_or_method",
    "instance",
    "_Feature"
   ],
   "window_display": false
  }
 },
 "nbformat": 4,
 "nbformat_minor": 2
}
